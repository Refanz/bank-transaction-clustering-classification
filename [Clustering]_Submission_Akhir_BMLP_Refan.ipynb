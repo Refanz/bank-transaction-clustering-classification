{
 "nbformat": 4,
 "nbformat_minor": 0,
 "metadata": {
  "colab": {
   "provenance": []
  },
  "kernelspec": {
   "name": "python3",
   "display_name": "Python 3 (ipykernel)",
   "language": "python"
  },
  "language_info": {
   "name": "python"
  }
 },
 "cells": [
  {
   "cell_type": "markdown",
   "source": [
    "# **1. Perkenalan Dataset**\n"
   ],
   "metadata": {
    "id": "kZLRMFl0JyyQ"
   }
  },
  {
   "cell_type": "markdown",
   "source": [
    "Tahap pertama, Anda harus mencari dan menggunakan dataset **tanpa label** dengan ketentuan sebagai berikut:\n",
    "\n",
    "1. **Sumber Dataset**:  \n",
    "   Dataset dapat diperoleh dari berbagai sumber, seperti public repositories (*Kaggle*, *UCI ML Repository*, *Open Data*) atau data primer yang Anda kumpulkan sendiri.\n",
    "   \n",
    "2. **Ketentuan Dataset**:\n",
    "   - **Tanpa label**: Dataset tidak boleh memiliki label atau kelas.\n",
    "   - **Jumlah Baris**: Minimal 1000 baris untuk memastikan dataset cukup besar untuk analisis yang bermakna.\n",
    "   - **Tipe Data**: Harus mengandung data **kategorikal** dan **numerikal**.\n",
    "     - *Kategorikal*: Misalnya jenis kelamin, kategori produk.\n",
    "     - *Numerikal*: Misalnya usia, pendapatan, harga.\n",
    "\n",
    "3. **Pembatasan**:  \n",
    "   Dataset yang sudah digunakan dalam latihan clustering (seperti customer segmentation) tidak boleh digunakan."
   ],
   "metadata": {
    "id": "hssSDn-5n3HR"
   }
  },
  {
   "cell_type": "markdown",
   "source": [
    "# **2. Import Library**"
   ],
   "metadata": {
    "id": "fKADPWcFKlj3"
   }
  },
  {
   "cell_type": "markdown",
   "source": [
    "Pada tahap ini, Anda perlu mengimpor beberapa pustaka (library) Python yang dibutuhkan untuk analisis data dan pembangunan model machine learning."
   ],
   "metadata": {
    "id": "LgA3ERnVn84N"
   }
  },
  {
   "cell_type": "code",
   "source": [
    "# Melakukan import library\n",
    "\n",
    "import pandas as pd\n",
    "import matplotlib.pyplot as plt\n",
    "import sklearn\n",
    "from yellowbrick.cluster import KElbowVisualizer\n",
    "from sklearn.cluster import KMeans\n",
    "from sklearn.metrics import silhouette_score"
   ],
   "metadata": {
    "id": "BlmvjLY9M4Yj",
    "ExecuteTime": {
     "end_time": "2025-03-22T22:57:40.418919Z",
     "start_time": "2025-03-22T22:57:37.983712Z"
    }
   },
   "outputs": [],
   "execution_count": 2
  },
  {
   "cell_type": "markdown",
   "source": [
    "# **3. Memuat Dataset**"
   ],
   "metadata": {
    "id": "f3YIEnAFKrKL"
   }
  },
  {
   "cell_type": "markdown",
   "source": [
    "Pada tahap ini, Anda perlu memuat dataset ke dalam notebook. Jika dataset dalam format CSV, Anda bisa menggunakan pustaka pandas untuk membacanya. Pastikan untuk mengecek beberapa baris awal dataset untuk memahami strukturnya dan memastikan data telah dimuat dengan benar.\n",
    "\n",
    "Jika dataset berada di Google Drive, pastikan Anda menghubungkan Google Drive ke Colab terlebih dahulu. Setelah dataset berhasil dimuat, langkah berikutnya adalah memeriksa kesesuaian data dan siap untuk dianalisis lebih lanjut."
   ],
   "metadata": {
    "id": "Ey3ItwTen_7E"
   }
  },
  {
   "cell_type": "code",
   "source": [
    "# Membaca dataset transasi bank dari lokal dan menampilkan data pada 5 baris pertama\n",
    "\n",
    "bank_transactions_df = pd.read_csv(\"Dataset_inisiasi.csv\")\n",
    "bank_transactions_df.head()"
   ],
   "metadata": {
    "id": "GHCGNTyrM5fS",
    "ExecuteTime": {
     "end_time": "2025-03-22T22:58:06.088705Z",
     "start_time": "2025-03-22T22:58:06.016543Z"
    }
   },
   "outputs": [
    {
     "data": {
      "text/plain": [
       "  TransactionID AccountID  TransactionAmount      TransactionDate  \\\n",
       "0      TX000001   AC00128              14.09  2023-04-11 16:29:14   \n",
       "1      TX000002   AC00455             376.24  2023-06-27 16:44:19   \n",
       "2      TX000003   AC00019             126.29  2023-07-10 18:16:08   \n",
       "3      TX000004   AC00070             184.50  2023-05-05 16:32:11   \n",
       "4      TX000005   AC00411              13.45  2023-10-16 17:51:24   \n",
       "\n",
       "  TransactionType   Location DeviceID      IP Address MerchantID Channel  \\\n",
       "0           Debit  San Diego  D000380  162.198.218.92       M015     ATM   \n",
       "1           Debit    Houston  D000051     13.149.61.4       M052     ATM   \n",
       "2           Debit       Mesa  D000235  215.97.143.157       M009  Online   \n",
       "3           Debit    Raleigh  D000187  200.13.225.150       M002  Online   \n",
       "4          Credit    Atlanta  D000308    65.164.3.100       M091  Online   \n",
       "\n",
       "   CustomerAge CustomerOccupation  TransactionDuration  LoginAttempts  \\\n",
       "0           70             Doctor                   81              1   \n",
       "1           68             Doctor                  141              1   \n",
       "2           19            Student                   56              1   \n",
       "3           26            Student                   25              1   \n",
       "4           26            Student                  198              1   \n",
       "\n",
       "   AccountBalance PreviousTransactionDate  \n",
       "0         5112.21     2024-11-04 08:08:08  \n",
       "1        13758.91     2024-11-04 08:09:35  \n",
       "2         1122.35     2024-11-04 08:07:04  \n",
       "3         8569.06     2024-11-04 08:09:06  \n",
       "4         7429.40     2024-11-04 08:06:39  "
      ],
      "text/html": [
       "<div>\n",
       "<style scoped>\n",
       "    .dataframe tbody tr th:only-of-type {\n",
       "        vertical-align: middle;\n",
       "    }\n",
       "\n",
       "    .dataframe tbody tr th {\n",
       "        vertical-align: top;\n",
       "    }\n",
       "\n",
       "    .dataframe thead th {\n",
       "        text-align: right;\n",
       "    }\n",
       "</style>\n",
       "<table border=\"1\" class=\"dataframe\">\n",
       "  <thead>\n",
       "    <tr style=\"text-align: right;\">\n",
       "      <th></th>\n",
       "      <th>TransactionID</th>\n",
       "      <th>AccountID</th>\n",
       "      <th>TransactionAmount</th>\n",
       "      <th>TransactionDate</th>\n",
       "      <th>TransactionType</th>\n",
       "      <th>Location</th>\n",
       "      <th>DeviceID</th>\n",
       "      <th>IP Address</th>\n",
       "      <th>MerchantID</th>\n",
       "      <th>Channel</th>\n",
       "      <th>CustomerAge</th>\n",
       "      <th>CustomerOccupation</th>\n",
       "      <th>TransactionDuration</th>\n",
       "      <th>LoginAttempts</th>\n",
       "      <th>AccountBalance</th>\n",
       "      <th>PreviousTransactionDate</th>\n",
       "    </tr>\n",
       "  </thead>\n",
       "  <tbody>\n",
       "    <tr>\n",
       "      <th>0</th>\n",
       "      <td>TX000001</td>\n",
       "      <td>AC00128</td>\n",
       "      <td>14.09</td>\n",
       "      <td>2023-04-11 16:29:14</td>\n",
       "      <td>Debit</td>\n",
       "      <td>San Diego</td>\n",
       "      <td>D000380</td>\n",
       "      <td>162.198.218.92</td>\n",
       "      <td>M015</td>\n",
       "      <td>ATM</td>\n",
       "      <td>70</td>\n",
       "      <td>Doctor</td>\n",
       "      <td>81</td>\n",
       "      <td>1</td>\n",
       "      <td>5112.21</td>\n",
       "      <td>2024-11-04 08:08:08</td>\n",
       "    </tr>\n",
       "    <tr>\n",
       "      <th>1</th>\n",
       "      <td>TX000002</td>\n",
       "      <td>AC00455</td>\n",
       "      <td>376.24</td>\n",
       "      <td>2023-06-27 16:44:19</td>\n",
       "      <td>Debit</td>\n",
       "      <td>Houston</td>\n",
       "      <td>D000051</td>\n",
       "      <td>13.149.61.4</td>\n",
       "      <td>M052</td>\n",
       "      <td>ATM</td>\n",
       "      <td>68</td>\n",
       "      <td>Doctor</td>\n",
       "      <td>141</td>\n",
       "      <td>1</td>\n",
       "      <td>13758.91</td>\n",
       "      <td>2024-11-04 08:09:35</td>\n",
       "    </tr>\n",
       "    <tr>\n",
       "      <th>2</th>\n",
       "      <td>TX000003</td>\n",
       "      <td>AC00019</td>\n",
       "      <td>126.29</td>\n",
       "      <td>2023-07-10 18:16:08</td>\n",
       "      <td>Debit</td>\n",
       "      <td>Mesa</td>\n",
       "      <td>D000235</td>\n",
       "      <td>215.97.143.157</td>\n",
       "      <td>M009</td>\n",
       "      <td>Online</td>\n",
       "      <td>19</td>\n",
       "      <td>Student</td>\n",
       "      <td>56</td>\n",
       "      <td>1</td>\n",
       "      <td>1122.35</td>\n",
       "      <td>2024-11-04 08:07:04</td>\n",
       "    </tr>\n",
       "    <tr>\n",
       "      <th>3</th>\n",
       "      <td>TX000004</td>\n",
       "      <td>AC00070</td>\n",
       "      <td>184.50</td>\n",
       "      <td>2023-05-05 16:32:11</td>\n",
       "      <td>Debit</td>\n",
       "      <td>Raleigh</td>\n",
       "      <td>D000187</td>\n",
       "      <td>200.13.225.150</td>\n",
       "      <td>M002</td>\n",
       "      <td>Online</td>\n",
       "      <td>26</td>\n",
       "      <td>Student</td>\n",
       "      <td>25</td>\n",
       "      <td>1</td>\n",
       "      <td>8569.06</td>\n",
       "      <td>2024-11-04 08:09:06</td>\n",
       "    </tr>\n",
       "    <tr>\n",
       "      <th>4</th>\n",
       "      <td>TX000005</td>\n",
       "      <td>AC00411</td>\n",
       "      <td>13.45</td>\n",
       "      <td>2023-10-16 17:51:24</td>\n",
       "      <td>Credit</td>\n",
       "      <td>Atlanta</td>\n",
       "      <td>D000308</td>\n",
       "      <td>65.164.3.100</td>\n",
       "      <td>M091</td>\n",
       "      <td>Online</td>\n",
       "      <td>26</td>\n",
       "      <td>Student</td>\n",
       "      <td>198</td>\n",
       "      <td>1</td>\n",
       "      <td>7429.40</td>\n",
       "      <td>2024-11-04 08:06:39</td>\n",
       "    </tr>\n",
       "  </tbody>\n",
       "</table>\n",
       "</div>"
      ]
     },
     "execution_count": 3,
     "metadata": {},
     "output_type": "execute_result"
    }
   ],
   "execution_count": 3
  },
  {
   "cell_type": "markdown",
   "source": [
    "# **4. Exploratory Data Analysis (EDA)**\n",
    "\n",
    "Pada tahap ini, Anda akan melakukan **Exploratory Data Analysis (EDA)** untuk memahami karakteristik dataset. EDA bertujuan untuk:\n",
    "\n",
    "1. **Memahami Struktur Data**\n",
    "   - Tinjau jumlah baris dan kolom dalam dataset.  \n",
    "   - Tinjau jenis data di setiap kolom (numerikal atau kategorikal).\n",
    "\n",
    "2. **Menangani Data yang Hilang**  \n",
    "   - Identifikasi dan analisis data yang hilang (*missing values*). Tentukan langkah-langkah yang diperlukan untuk menangani data yang hilang, seperti pengisian atau penghapusan data tersebut.\n",
    "\n",
    "3. **Analisis Distribusi dan Korelasi**  \n",
    "   - Analisis distribusi variabel numerik dengan statistik deskriptif dan visualisasi seperti histogram atau boxplot.  \n",
    "   - Periksa hubungan antara variabel menggunakan matriks korelasi atau scatter plot.\n",
    "\n",
    "4. **Visualisasi Data**  \n",
    "   - Buat visualisasi dasar seperti grafik distribusi dan diagram batang untuk variabel kategorikal.  \n",
    "   - Gunakan heatmap atau pairplot untuk menganalisis korelasi antar variabel.\n",
    "\n",
    "Tujuan dari EDA adalah untuk memperoleh wawasan awal yang mendalam mengenai data dan menentukan langkah selanjutnya dalam analisis atau pemodelan."
   ],
   "metadata": {
    "id": "bgZkbJLpK9UR"
   }
  },
  {
   "metadata": {},
   "cell_type": "code",
   "outputs": [],
   "execution_count": null,
   "source": "# Menampilkan ringakasa informasi dari dataset"
  },
  {
   "metadata": {
    "id": "dKeejtvxM6X1",
    "ExecuteTime": {
     "end_time": "2025-03-23T01:43:11.720862Z",
     "start_time": "2025-03-23T01:43:11.691618Z"
    }
   },
   "cell_type": "code",
   "outputs": [
    {
     "data": {
      "text/plain": [
       "       TransactionAmount  CustomerAge  TransactionDuration  LoginAttempts  \\\n",
       "count        2512.000000  2512.000000          2512.000000    2512.000000   \n",
       "mean          297.593778    44.673965           119.643312       1.124602   \n",
       "std           291.946243    17.792198            69.963757       0.602662   \n",
       "min             0.260000    18.000000            10.000000       1.000000   \n",
       "25%            81.885000    27.000000            63.000000       1.000000   \n",
       "50%           211.140000    45.000000           112.500000       1.000000   \n",
       "75%           414.527500    59.000000           161.000000       1.000000   \n",
       "max          1919.110000    80.000000           300.000000       5.000000   \n",
       "\n",
       "       AccountBalance  \n",
       "count     2512.000000  \n",
       "mean      5114.302966  \n",
       "std       3900.942499  \n",
       "min        101.250000  \n",
       "25%       1504.370000  \n",
       "50%       4735.510000  \n",
       "75%       7678.820000  \n",
       "max      14977.990000  "
      ],
      "text/html": [
       "<div>\n",
       "<style scoped>\n",
       "    .dataframe tbody tr th:only-of-type {\n",
       "        vertical-align: middle;\n",
       "    }\n",
       "\n",
       "    .dataframe tbody tr th {\n",
       "        vertical-align: top;\n",
       "    }\n",
       "\n",
       "    .dataframe thead th {\n",
       "        text-align: right;\n",
       "    }\n",
       "</style>\n",
       "<table border=\"1\" class=\"dataframe\">\n",
       "  <thead>\n",
       "    <tr style=\"text-align: right;\">\n",
       "      <th></th>\n",
       "      <th>TransactionAmount</th>\n",
       "      <th>CustomerAge</th>\n",
       "      <th>TransactionDuration</th>\n",
       "      <th>LoginAttempts</th>\n",
       "      <th>AccountBalance</th>\n",
       "    </tr>\n",
       "  </thead>\n",
       "  <tbody>\n",
       "    <tr>\n",
       "      <th>count</th>\n",
       "      <td>2512.000000</td>\n",
       "      <td>2512.000000</td>\n",
       "      <td>2512.000000</td>\n",
       "      <td>2512.000000</td>\n",
       "      <td>2512.000000</td>\n",
       "    </tr>\n",
       "    <tr>\n",
       "      <th>mean</th>\n",
       "      <td>297.593778</td>\n",
       "      <td>44.673965</td>\n",
       "      <td>119.643312</td>\n",
       "      <td>1.124602</td>\n",
       "      <td>5114.302966</td>\n",
       "    </tr>\n",
       "    <tr>\n",
       "      <th>std</th>\n",
       "      <td>291.946243</td>\n",
       "      <td>17.792198</td>\n",
       "      <td>69.963757</td>\n",
       "      <td>0.602662</td>\n",
       "      <td>3900.942499</td>\n",
       "    </tr>\n",
       "    <tr>\n",
       "      <th>min</th>\n",
       "      <td>0.260000</td>\n",
       "      <td>18.000000</td>\n",
       "      <td>10.000000</td>\n",
       "      <td>1.000000</td>\n",
       "      <td>101.250000</td>\n",
       "    </tr>\n",
       "    <tr>\n",
       "      <th>25%</th>\n",
       "      <td>81.885000</td>\n",
       "      <td>27.000000</td>\n",
       "      <td>63.000000</td>\n",
       "      <td>1.000000</td>\n",
       "      <td>1504.370000</td>\n",
       "    </tr>\n",
       "    <tr>\n",
       "      <th>50%</th>\n",
       "      <td>211.140000</td>\n",
       "      <td>45.000000</td>\n",
       "      <td>112.500000</td>\n",
       "      <td>1.000000</td>\n",
       "      <td>4735.510000</td>\n",
       "    </tr>\n",
       "    <tr>\n",
       "      <th>75%</th>\n",
       "      <td>414.527500</td>\n",
       "      <td>59.000000</td>\n",
       "      <td>161.000000</td>\n",
       "      <td>1.000000</td>\n",
       "      <td>7678.820000</td>\n",
       "    </tr>\n",
       "    <tr>\n",
       "      <th>max</th>\n",
       "      <td>1919.110000</td>\n",
       "      <td>80.000000</td>\n",
       "      <td>300.000000</td>\n",
       "      <td>5.000000</td>\n",
       "      <td>14977.990000</td>\n",
       "    </tr>\n",
       "  </tbody>\n",
       "</table>\n",
       "</div>"
      ]
     },
     "execution_count": 7,
     "metadata": {},
     "output_type": "execute_result"
    }
   ],
   "execution_count": 7,
   "source": [
    "# Menampilkan statistik deskriptif dari dataset untuk kolom numerik\n",
    "bank_transactions_df.describe()"
   ]
  },
  {
   "metadata": {
    "ExecuteTime": {
     "end_time": "2025-03-23T01:43:14.438160Z",
     "start_time": "2025-03-23T01:43:14.366888Z"
    }
   },
   "cell_type": "code",
   "source": [
    "# Menampilkan statistik deskriptif dari dataset untuk semua kolom (numerik dan kategorial)\n",
    "bank_transactions_df.describe(include=\"all\")"
   ],
   "outputs": [
    {
     "data": {
      "text/plain": [
       "       TransactionID AccountID  TransactionAmount      TransactionDate  \\\n",
       "count           2512      2512        2512.000000                 2512   \n",
       "unique          2512       495                NaN                 2512   \n",
       "top         TX002512   AC00363                NaN  2023-02-14 16:21:23   \n",
       "freq               1        12                NaN                    1   \n",
       "mean             NaN       NaN         297.593778                  NaN   \n",
       "std              NaN       NaN         291.946243                  NaN   \n",
       "min              NaN       NaN           0.260000                  NaN   \n",
       "25%              NaN       NaN          81.885000                  NaN   \n",
       "50%              NaN       NaN         211.140000                  NaN   \n",
       "75%              NaN       NaN         414.527500                  NaN   \n",
       "max              NaN       NaN        1919.110000                  NaN   \n",
       "\n",
       "       TransactionType    Location DeviceID      IP Address MerchantID  \\\n",
       "count             2512        2512     2512            2512       2512   \n",
       "unique               2          43      681             592        100   \n",
       "top              Debit  Fort Worth  D000548  200.136.146.93       M026   \n",
       "freq              1944          70        9              13         45   \n",
       "mean               NaN         NaN      NaN             NaN        NaN   \n",
       "std                NaN         NaN      NaN             NaN        NaN   \n",
       "min                NaN         NaN      NaN             NaN        NaN   \n",
       "25%                NaN         NaN      NaN             NaN        NaN   \n",
       "50%                NaN         NaN      NaN             NaN        NaN   \n",
       "75%                NaN         NaN      NaN             NaN        NaN   \n",
       "max                NaN         NaN      NaN             NaN        NaN   \n",
       "\n",
       "       Channel  CustomerAge CustomerOccupation  TransactionDuration  \\\n",
       "count     2512  2512.000000               2512          2512.000000   \n",
       "unique       3          NaN                  4                  NaN   \n",
       "top     Branch          NaN            Student                  NaN   \n",
       "freq       868          NaN                657                  NaN   \n",
       "mean       NaN    44.673965                NaN           119.643312   \n",
       "std        NaN    17.792198                NaN            69.963757   \n",
       "min        NaN    18.000000                NaN            10.000000   \n",
       "25%        NaN    27.000000                NaN            63.000000   \n",
       "50%        NaN    45.000000                NaN           112.500000   \n",
       "75%        NaN    59.000000                NaN           161.000000   \n",
       "max        NaN    80.000000                NaN           300.000000   \n",
       "\n",
       "        LoginAttempts  AccountBalance PreviousTransactionDate  \n",
       "count     2512.000000     2512.000000                    2512  \n",
       "unique            NaN             NaN                     360  \n",
       "top               NaN             NaN     2024-11-04 08:09:17  \n",
       "freq              NaN             NaN                      16  \n",
       "mean         1.124602     5114.302966                     NaN  \n",
       "std          0.602662     3900.942499                     NaN  \n",
       "min          1.000000      101.250000                     NaN  \n",
       "25%          1.000000     1504.370000                     NaN  \n",
       "50%          1.000000     4735.510000                     NaN  \n",
       "75%          1.000000     7678.820000                     NaN  \n",
       "max          5.000000    14977.990000                     NaN  "
      ],
      "text/html": [
       "<div>\n",
       "<style scoped>\n",
       "    .dataframe tbody tr th:only-of-type {\n",
       "        vertical-align: middle;\n",
       "    }\n",
       "\n",
       "    .dataframe tbody tr th {\n",
       "        vertical-align: top;\n",
       "    }\n",
       "\n",
       "    .dataframe thead th {\n",
       "        text-align: right;\n",
       "    }\n",
       "</style>\n",
       "<table border=\"1\" class=\"dataframe\">\n",
       "  <thead>\n",
       "    <tr style=\"text-align: right;\">\n",
       "      <th></th>\n",
       "      <th>TransactionID</th>\n",
       "      <th>AccountID</th>\n",
       "      <th>TransactionAmount</th>\n",
       "      <th>TransactionDate</th>\n",
       "      <th>TransactionType</th>\n",
       "      <th>Location</th>\n",
       "      <th>DeviceID</th>\n",
       "      <th>IP Address</th>\n",
       "      <th>MerchantID</th>\n",
       "      <th>Channel</th>\n",
       "      <th>CustomerAge</th>\n",
       "      <th>CustomerOccupation</th>\n",
       "      <th>TransactionDuration</th>\n",
       "      <th>LoginAttempts</th>\n",
       "      <th>AccountBalance</th>\n",
       "      <th>PreviousTransactionDate</th>\n",
       "    </tr>\n",
       "  </thead>\n",
       "  <tbody>\n",
       "    <tr>\n",
       "      <th>count</th>\n",
       "      <td>2512</td>\n",
       "      <td>2512</td>\n",
       "      <td>2512.000000</td>\n",
       "      <td>2512</td>\n",
       "      <td>2512</td>\n",
       "      <td>2512</td>\n",
       "      <td>2512</td>\n",
       "      <td>2512</td>\n",
       "      <td>2512</td>\n",
       "      <td>2512</td>\n",
       "      <td>2512.000000</td>\n",
       "      <td>2512</td>\n",
       "      <td>2512.000000</td>\n",
       "      <td>2512.000000</td>\n",
       "      <td>2512.000000</td>\n",
       "      <td>2512</td>\n",
       "    </tr>\n",
       "    <tr>\n",
       "      <th>unique</th>\n",
       "      <td>2512</td>\n",
       "      <td>495</td>\n",
       "      <td>NaN</td>\n",
       "      <td>2512</td>\n",
       "      <td>2</td>\n",
       "      <td>43</td>\n",
       "      <td>681</td>\n",
       "      <td>592</td>\n",
       "      <td>100</td>\n",
       "      <td>3</td>\n",
       "      <td>NaN</td>\n",
       "      <td>4</td>\n",
       "      <td>NaN</td>\n",
       "      <td>NaN</td>\n",
       "      <td>NaN</td>\n",
       "      <td>360</td>\n",
       "    </tr>\n",
       "    <tr>\n",
       "      <th>top</th>\n",
       "      <td>TX002512</td>\n",
       "      <td>AC00363</td>\n",
       "      <td>NaN</td>\n",
       "      <td>2023-02-14 16:21:23</td>\n",
       "      <td>Debit</td>\n",
       "      <td>Fort Worth</td>\n",
       "      <td>D000548</td>\n",
       "      <td>200.136.146.93</td>\n",
       "      <td>M026</td>\n",
       "      <td>Branch</td>\n",
       "      <td>NaN</td>\n",
       "      <td>Student</td>\n",
       "      <td>NaN</td>\n",
       "      <td>NaN</td>\n",
       "      <td>NaN</td>\n",
       "      <td>2024-11-04 08:09:17</td>\n",
       "    </tr>\n",
       "    <tr>\n",
       "      <th>freq</th>\n",
       "      <td>1</td>\n",
       "      <td>12</td>\n",
       "      <td>NaN</td>\n",
       "      <td>1</td>\n",
       "      <td>1944</td>\n",
       "      <td>70</td>\n",
       "      <td>9</td>\n",
       "      <td>13</td>\n",
       "      <td>45</td>\n",
       "      <td>868</td>\n",
       "      <td>NaN</td>\n",
       "      <td>657</td>\n",
       "      <td>NaN</td>\n",
       "      <td>NaN</td>\n",
       "      <td>NaN</td>\n",
       "      <td>16</td>\n",
       "    </tr>\n",
       "    <tr>\n",
       "      <th>mean</th>\n",
       "      <td>NaN</td>\n",
       "      <td>NaN</td>\n",
       "      <td>297.593778</td>\n",
       "      <td>NaN</td>\n",
       "      <td>NaN</td>\n",
       "      <td>NaN</td>\n",
       "      <td>NaN</td>\n",
       "      <td>NaN</td>\n",
       "      <td>NaN</td>\n",
       "      <td>NaN</td>\n",
       "      <td>44.673965</td>\n",
       "      <td>NaN</td>\n",
       "      <td>119.643312</td>\n",
       "      <td>1.124602</td>\n",
       "      <td>5114.302966</td>\n",
       "      <td>NaN</td>\n",
       "    </tr>\n",
       "    <tr>\n",
       "      <th>std</th>\n",
       "      <td>NaN</td>\n",
       "      <td>NaN</td>\n",
       "      <td>291.946243</td>\n",
       "      <td>NaN</td>\n",
       "      <td>NaN</td>\n",
       "      <td>NaN</td>\n",
       "      <td>NaN</td>\n",
       "      <td>NaN</td>\n",
       "      <td>NaN</td>\n",
       "      <td>NaN</td>\n",
       "      <td>17.792198</td>\n",
       "      <td>NaN</td>\n",
       "      <td>69.963757</td>\n",
       "      <td>0.602662</td>\n",
       "      <td>3900.942499</td>\n",
       "      <td>NaN</td>\n",
       "    </tr>\n",
       "    <tr>\n",
       "      <th>min</th>\n",
       "      <td>NaN</td>\n",
       "      <td>NaN</td>\n",
       "      <td>0.260000</td>\n",
       "      <td>NaN</td>\n",
       "      <td>NaN</td>\n",
       "      <td>NaN</td>\n",
       "      <td>NaN</td>\n",
       "      <td>NaN</td>\n",
       "      <td>NaN</td>\n",
       "      <td>NaN</td>\n",
       "      <td>18.000000</td>\n",
       "      <td>NaN</td>\n",
       "      <td>10.000000</td>\n",
       "      <td>1.000000</td>\n",
       "      <td>101.250000</td>\n",
       "      <td>NaN</td>\n",
       "    </tr>\n",
       "    <tr>\n",
       "      <th>25%</th>\n",
       "      <td>NaN</td>\n",
       "      <td>NaN</td>\n",
       "      <td>81.885000</td>\n",
       "      <td>NaN</td>\n",
       "      <td>NaN</td>\n",
       "      <td>NaN</td>\n",
       "      <td>NaN</td>\n",
       "      <td>NaN</td>\n",
       "      <td>NaN</td>\n",
       "      <td>NaN</td>\n",
       "      <td>27.000000</td>\n",
       "      <td>NaN</td>\n",
       "      <td>63.000000</td>\n",
       "      <td>1.000000</td>\n",
       "      <td>1504.370000</td>\n",
       "      <td>NaN</td>\n",
       "    </tr>\n",
       "    <tr>\n",
       "      <th>50%</th>\n",
       "      <td>NaN</td>\n",
       "      <td>NaN</td>\n",
       "      <td>211.140000</td>\n",
       "      <td>NaN</td>\n",
       "      <td>NaN</td>\n",
       "      <td>NaN</td>\n",
       "      <td>NaN</td>\n",
       "      <td>NaN</td>\n",
       "      <td>NaN</td>\n",
       "      <td>NaN</td>\n",
       "      <td>45.000000</td>\n",
       "      <td>NaN</td>\n",
       "      <td>112.500000</td>\n",
       "      <td>1.000000</td>\n",
       "      <td>4735.510000</td>\n",
       "      <td>NaN</td>\n",
       "    </tr>\n",
       "    <tr>\n",
       "      <th>75%</th>\n",
       "      <td>NaN</td>\n",
       "      <td>NaN</td>\n",
       "      <td>414.527500</td>\n",
       "      <td>NaN</td>\n",
       "      <td>NaN</td>\n",
       "      <td>NaN</td>\n",
       "      <td>NaN</td>\n",
       "      <td>NaN</td>\n",
       "      <td>NaN</td>\n",
       "      <td>NaN</td>\n",
       "      <td>59.000000</td>\n",
       "      <td>NaN</td>\n",
       "      <td>161.000000</td>\n",
       "      <td>1.000000</td>\n",
       "      <td>7678.820000</td>\n",
       "      <td>NaN</td>\n",
       "    </tr>\n",
       "    <tr>\n",
       "      <th>max</th>\n",
       "      <td>NaN</td>\n",
       "      <td>NaN</td>\n",
       "      <td>1919.110000</td>\n",
       "      <td>NaN</td>\n",
       "      <td>NaN</td>\n",
       "      <td>NaN</td>\n",
       "      <td>NaN</td>\n",
       "      <td>NaN</td>\n",
       "      <td>NaN</td>\n",
       "      <td>NaN</td>\n",
       "      <td>80.000000</td>\n",
       "      <td>NaN</td>\n",
       "      <td>300.000000</td>\n",
       "      <td>5.000000</td>\n",
       "      <td>14977.990000</td>\n",
       "      <td>NaN</td>\n",
       "    </tr>\n",
       "  </tbody>\n",
       "</table>\n",
       "</div>"
      ]
     },
     "execution_count": 8,
     "metadata": {},
     "output_type": "execute_result"
    }
   ],
   "execution_count": 8
  },
  {
   "metadata": {},
   "cell_type": "code",
   "outputs": [],
   "execution_count": null,
   "source": ""
  },
  {
   "cell_type": "markdown",
   "source": [
    "# **5. Data Preprocessing**"
   ],
   "metadata": {
    "id": "cpgHfgnSK3ip"
   }
  },
  {
   "cell_type": "markdown",
   "source": [
    "Pada tahap ini, data preprocessing adalah langkah penting untuk memastikan kualitas data sebelum digunakan dalam model machine learning. Data mentah sering kali mengandung nilai kosong, duplikasi, atau rentang nilai yang tidak konsisten, yang dapat memengaruhi kinerja model. Oleh karena itu, proses ini bertujuan untuk membersihkan dan mempersiapkan data agar analisis berjalan optimal.\n",
    "\n",
    "Berikut adalah tahapan-tahapan yang bisa dilakukan, tetapi **tidak terbatas** pada:\n",
    "1. Menghapus atau Menangani Data Kosong (Missing Values)\n",
    "2. Menghapus Data Duplikat\n",
    "3. Normalisasi atau Standarisasi Fitur\n",
    "4. Deteksi dan Penanganan Outlier\n",
    "5. Encoding Data Kategorikal\n",
    "6. Binning (Pengelompokan Data)\n",
    "\n",
    "Cukup sesuaikan dengan karakteristik data yang kamu gunakan yah."
   ],
   "metadata": {
    "id": "COf8KUPXLg5r"
   }
  },
  {
   "cell_type": "code",
   "source": [
    "#Type your code here"
   ],
   "metadata": {
    "id": "WzBGjcbQM7N8"
   },
   "execution_count": null,
   "outputs": []
  },
  {
   "cell_type": "markdown",
   "source": [
    "# **6. Pembangunan Model Clustering**"
   ],
   "metadata": {
    "id": "BR73dCnrLEiq"
   }
  },
  {
   "cell_type": "markdown",
   "source": [
    "## **a. Pembangunan Model Clustering**"
   ],
   "metadata": {
    "id": "Fkd_QHXWMBDr"
   }
  },
  {
   "cell_type": "markdown",
   "source": [
    "Pada tahap ini, Anda membangun model clustering dengan memilih algoritma yang sesuai untuk mengelompokkan data berdasarkan kesamaan. Berikut adalah **rekomendasi** tahapannya.\n",
    "1. Pilih algoritma clustering yang sesuai.\n",
    "2. Latih model dengan data menggunakan algoritma tersebut."
   ],
   "metadata": {
    "id": "Kn6Y2qbqMVLP"
   }
  },
  {
   "cell_type": "code",
   "source": [
    "#Type your code here"
   ],
   "metadata": {
    "id": "hgYvwWOzM93L"
   },
   "execution_count": null,
   "outputs": []
  },
  {
   "cell_type": "markdown",
   "source": [
    "## **b. Evaluasi Model Clustering**"
   ],
   "metadata": {
    "id": "zsGVwzPKMEvn"
   }
  },
  {
   "cell_type": "markdown",
   "source": [
    "Untuk menentukan jumlah cluster yang optimal dalam model clustering, Anda dapat menggunakan metode Elbow atau Silhouette Score.\n",
    "\n",
    "Metode ini membantu kita menemukan jumlah cluster yang memberikan pemisahan terbaik antar kelompok data, sehingga model yang dibangun dapat lebih efektif. Berikut adalah **rekomendasi** tahapannya.\n",
    "1. Gunakan Silhouette Score dan Elbow Method untuk menentukan jumlah cluster optimal.\n",
    "2. Hitung Silhouette Score sebagai ukuran kualitas cluster."
   ],
   "metadata": {
    "id": "qk63ew39MeBf"
   }
  },
  {
   "cell_type": "code",
   "source": [
    "#Type your code here"
   ],
   "metadata": {
    "id": "yrPkK_bvM-Ya"
   },
   "execution_count": null,
   "outputs": []
  },
  {
   "cell_type": "markdown",
   "source": [
    "## **c. Feature Selection (Opsional)**"
   ],
   "metadata": {
    "id": "vWZp5vKNQddd"
   }
  },
  {
   "cell_type": "markdown",
   "source": [
    "Silakan lakukan feature selection jika Anda membutuhkan optimasi model clustering. Jika Anda menerapkan proses ini, silakan lakukan pemodelan dan evaluasi kembali menggunakan kolom-kolom hasil feature selection. Terakhir, bandingkan hasil performa model sebelum dan sesudah menerapkan feature selection."
   ],
   "metadata": {
    "id": "QIHKgE07Q4c0"
   }
  },
  {
   "cell_type": "code",
   "source": [
    "#Type your code here"
   ],
   "metadata": {
    "id": "Vbstha0PRUpI"
   },
   "execution_count": null,
   "outputs": []
  },
  {
   "cell_type": "markdown",
   "source": [
    "## **d. Visualisasi Hasil Clustering**"
   ],
   "metadata": {
    "id": "nn01TKkLLRiF"
   }
  },
  {
   "cell_type": "markdown",
   "source": [
    "Setelah model clustering dilatih dan jumlah cluster optimal ditentukan, langkah selanjutnya adalah menampilkan hasil clustering melalui visualisasi.\n",
    "\n",
    "Berikut adalah **rekomendasi** tahapannya.\n",
    "1. Tampilkan hasil clustering dalam bentuk visualisasi, seperti grafik scatter plot atau 2D PCA projection."
   ],
   "metadata": {
    "id": "gaz0fnhhMkRI"
   }
  },
  {
   "cell_type": "code",
   "source": [
    "#Type your code here"
   ],
   "metadata": {
    "id": "lfOjVvfYM-4v"
   },
   "execution_count": null,
   "outputs": []
  },
  {
   "cell_type": "markdown",
   "source": [
    "## **e. Analisis dan Interpretasi Hasil Cluster**"
   ],
   "metadata": {
    "id": "X4eydPWJLH4I"
   }
  },
  {
   "cell_type": "markdown",
   "source": [
    "### Interpretasi Target"
   ],
   "metadata": {
    "id": "mxTeTkTkA7o6"
   }
  },
  {
   "cell_type": "markdown",
   "source": [
    "**Tutorial: Melakukan Inverse Transform pada Data Target Setelah Clustering**\n",
    "\n",
    "Setelah melakukan clustering dengan model **KMeans**, kita perlu mengembalikan data yang telah diubah (normalisasi, standarisasi, atau label encoding) ke bentuk aslinya. Berikut adalah langkah-langkahnya.\n",
    "\n",
    "---\n",
    "\n",
    "**1. Tambahkan Hasil Label Cluster ke DataFrame**\n",
    "Setelah mendapatkan hasil clustering, kita tambahkan label cluster ke dalam DataFrame yang telah dinormalisasi.\n",
    "\n",
    "```python\n",
    "df_normalized['Cluster'] = model_kmeans.labels_\n",
    "```\n",
    "\n",
    "Lakukan Inverse Transform pada feature yang sudah dilakukan Labelisasi dan Standararisasi. Berikut code untuk melakukannya:\n",
    "label_encoder.inverse_transform(X_Selected[['Fitur']])\n",
    "\n",
    "Lalu masukkan ke dalam kolom dataset asli atau membuat dataframe baru\n",
    "```python\n",
    "df_normalized['Fitur'] = label_encoder.inverse_transform(df_normalized[['Fitur']])\n",
    "```\n",
    "Masukkan Data yang Sudah Di-Inverse ke dalam Dataset Asli atau Buat DataFrame Baru\n",
    "```python\n",
    "df_original['Fitur'] = df_normalized['Fitur']\n",
    "```"
   ],
   "metadata": {
    "id": "NJDsBARmIsbW"
   }
  },
  {
   "cell_type": "code",
   "source": [
    "# Type your code here\n"
   ],
   "metadata": {
    "id": "ySc78cHdOiaQ"
   },
   "execution_count": null,
   "outputs": []
  },
  {
   "cell_type": "markdown",
   "source": [
    "### Inverse Data Jika Melakukan Normalisasi/Standardisasi"
   ],
   "metadata": {
    "id": "vITTtdoT_fIF"
   }
  },
  {
   "cell_type": "markdown",
   "source": [
    "Inverse Transform untuk Data yang Distandarisasi\n",
    "Jika data numerik telah dinormalisasi menggunakan StandardScaler atau MinMaxScaler, kita bisa mengembalikannya ke skala asli:\n",
    "```python\n",
    "df_normalized[['Fitur_Numerik']] = scaler.inverse_transform(df_normalized[['Fitur_Numerik']])\n",
    "```"
   ],
   "metadata": {
    "id": "bUGkyAvnKRrk"
   }
  },
  {
   "cell_type": "code",
   "source": [
    "# Type your code here"
   ],
   "metadata": {
    "id": "aIGQ_6wKGbVz"
   },
   "execution_count": null,
   "outputs": []
  },
  {
   "cell_type": "markdown",
   "source": [
    "Setelah melakukan clustering, langkah selanjutnya adalah menganalisis karakteristik dari masing-masing cluster berdasarkan fitur yang tersedia.\n",
    "\n",
    "Berikut adalah **rekomendasi** tahapannya.\n",
    "1. Analisis karakteristik tiap cluster berdasarkan fitur yang tersedia (misalnya, distribusi nilai dalam cluster).\n",
    "2. Berikan interpretasi: Apakah hasil clustering sesuai dengan ekspektasi dan logika bisnis? Apakah ada pola tertentu yang bisa dimanfaatkan?"
   ],
   "metadata": {
    "id": "SENfLnfRMpC-"
   }
  },
  {
   "cell_type": "code",
   "source": [
    "# Type your code here"
   ],
   "metadata": {
    "id": "MFq0x-OzM_Wt"
   },
   "execution_count": null,
   "outputs": []
  },
  {
   "cell_type": "markdown",
   "source": [
    "Tulis hasil interpretasinya di sini.\n",
    "1. Cluster 1:\n",
    "2. Cluster 2:\n",
    "3. Cluster 3:"
   ],
   "metadata": {
    "id": "JfgVMEBDS3KG"
   }
  },
  {
   "cell_type": "markdown",
   "source": [
    "# Contoh interpretasi [TEMPLATE]\n",
    "# Analisis Karakteristik Cluster dari Model KMeans\n",
    "\n",
    "Berikut adalah analisis karakteristik untuk setiap cluster yang dihasilkan dari model KMeans.\n",
    "\n",
    "## Cluster 1:\n",
    "- **Rata-rata Annual Income (k$):** 48,260  \n",
    "- **Rata-rata Spending Score (1-100):** 56.48  \n",
    "- **Analisis:** Cluster ini mencakup pelanggan dengan pendapatan tahunan menengah dan tingkat pengeluaran yang cukup tinggi. Pelanggan dalam cluster ini cenderung memiliki daya beli yang moderat dan mereka lebih cenderung untuk membelanjakan sebagian besar pendapatan mereka.\n",
    "\n",
    "## Cluster 2:\n",
    "- **Rata-rata Annual Income (k$):** 86,540  \n",
    "- **Rata-rata Spending Score (1-100):** 82.13  \n",
    "- **Analisis:** Cluster ini menunjukkan pelanggan dengan pendapatan tahunan tinggi dan pengeluaran yang sangat tinggi. Pelanggan di cluster ini merupakan kelompok premium dengan daya beli yang kuat dan cenderung mengeluarkan uang dalam jumlah besar untuk produk atau layanan.\n",
    "\n",
    "## Cluster 3:\n",
    "- **Rata-rata Annual Income (k$):** 87,000  \n",
    "- **Rata-rata Spending Score (1-100):** 18.63  \n",
    "- **Analisis:** Cluster ini terdiri dari pelanggan dengan pendapatan tahunan yang tinggi tetapi pengeluaran yang rendah. Mereka mungkin memiliki kapasitas finansial yang baik namun tidak terlalu aktif dalam berbelanja. Ini bisa menunjukkan bahwa mereka lebih selektif dalam pengeluaran mereka atau mungkin lebih cenderung untuk menyimpan uang."
   ],
   "metadata": {
    "id": "hOygRVqs_vdU"
   }
  },
  {
   "cell_type": "markdown",
   "source": [
    "# **7. Mengeksport Data**\n",
    "\n",
    "Simpan hasilnya ke dalam file CSV."
   ],
   "metadata": {
    "id": "jaYP1fx5VgWO"
   }
  },
  {
   "cell_type": "code",
   "source": [],
   "metadata": {
    "id": "fkbg_o80aRSH"
   },
   "execution_count": null,
   "outputs": []
  }
 ]
}
