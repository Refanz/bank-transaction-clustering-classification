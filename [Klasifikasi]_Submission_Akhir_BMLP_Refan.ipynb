{
 "nbformat": 4,
 "nbformat_minor": 0,
 "metadata": {
  "colab": {
   "provenance": []
  },
  "kernelspec": {
   "name": "python3",
   "display_name": "Python 3 (ipykernel)",
   "language": "python"
  },
  "language_info": {
   "name": "python"
  }
 },
 "cells": [
  {
   "cell_type": "markdown",
   "source": [
    "# **1. Import Library**"
   ],
   "metadata": {
    "id": "fKADPWcFKlj3"
   }
  },
  {
   "cell_type": "markdown",
   "source": [
    "Pada tahap ini, Anda perlu mengimpor beberapa pustaka (library) Python yang dibutuhkan untuk analisis data dan pembangunan model machine learning."
   ],
   "metadata": {
    "id": "LgA3ERnVn84N"
   }
  },
  {
   "metadata": {
    "id": "BlmvjLY9M4Yj",
    "ExecuteTime": {
     "end_time": "2025-03-29T00:57:51.060378Z",
     "start_time": "2025-03-29T00:57:51.053837Z"
    }
   },
   "cell_type": "code",
   "source": [
    "# Melakukan import library\n",
    "import pandas as pd\n",
    "import seaborn as sns\n",
    "import matplotlib.pyplot as plt\n",
    "from sklearn.metrics import accuracy_score, precision_score, recall_score, f1_score, confusion_matrix\n",
    "from sklearn.model_selection import train_test_split\n",
    "from sklearn.neighbors import KNeighborsClassifier\n",
    "from sklearn.preprocessing import LabelEncoder, MinMaxScaler\n",
    "from sklearn.tree import DecisionTreeClassifier"
   ],
   "outputs": [],
   "execution_count": 245
  },
  {
   "metadata": {
    "id": "f3YIEnAFKrKL"
   },
   "cell_type": "markdown",
   "source": "# **2. Memuat Dataset dari Hasil Clustering**"
  },
  {
   "cell_type": "markdown",
   "source": [
    "Memuat dataset hasil clustering dari file CSV ke dalam variabel DataFrame."
   ],
   "metadata": {
    "id": "Ey3ItwTen_7E"
   }
  },
  {
   "cell_type": "code",
   "source": [
    "# Memuat dataset dari hasil clustering\n",
    "df_bank_transaction = pd.read_csv(\"Dataset_clustering.csv\")\n",
    "df_bank_transaction.head()"
   ],
   "metadata": {
    "id": "GHCGNTyrM5fS",
    "ExecuteTime": {
     "end_time": "2025-03-29T00:57:51.114969Z",
     "start_time": "2025-03-29T00:57:51.078087Z"
    }
   },
   "outputs": [
    {
     "data": {
      "text/plain": [
       "  TransactionID AccountID  TransactionAmount      TransactionDate   Location  \\\n",
       "0      TX000001   AC00128              14.09  2023-04-11 16:29:14  San Diego   \n",
       "1      TX000002   AC00455             376.24  2023-06-27 16:44:19    Houston   \n",
       "2      TX000003   AC00019             126.29  2023-07-10 18:16:08       Mesa   \n",
       "3      TX000004   AC00070             184.50  2023-05-05 16:32:11    Raleigh   \n",
       "4      TX000005   AC00411              13.45  2023-10-16 17:51:24    Atlanta   \n",
       "\n",
       "  DeviceID      IP Address MerchantID Channel  CustomerAge CustomerOccupation  \\\n",
       "0  D000380  162.198.218.92       M015     ATM         70.0             Doctor   \n",
       "1  D000051     13.149.61.4       M052     ATM         68.0             Doctor   \n",
       "2  D000235  215.97.143.157       M009  Online         19.0            Student   \n",
       "3  D000187  200.13.225.150       M002  Online         26.0            Student   \n",
       "4  D000308    65.164.3.100       M091  Online         26.0            Student   \n",
       "\n",
       "   TransactionDuration  LoginAttempts  AccountBalance PreviousTransactionDate  \\\n",
       "0                 81.0            1.0         5112.21     2024-11-04 08:08:08   \n",
       "1                141.0            1.0        13758.91     2024-11-04 08:09:35   \n",
       "2                 56.0            1.0         1122.35     2024-11-04 08:07:04   \n",
       "3                 25.0            1.0         8569.06     2024-11-04 08:09:06   \n",
       "4                198.0            1.0         7429.40     2024-11-04 08:06:39   \n",
       "\n",
       "  TransactionType  Cluster  \n",
       "0           Debit        0  \n",
       "1           Debit        0  \n",
       "2          Credit        2  \n",
       "3           Debit        2  \n",
       "4          Credit        1  "
      ],
      "text/html": [
       "<div>\n",
       "<style scoped>\n",
       "    .dataframe tbody tr th:only-of-type {\n",
       "        vertical-align: middle;\n",
       "    }\n",
       "\n",
       "    .dataframe tbody tr th {\n",
       "        vertical-align: top;\n",
       "    }\n",
       "\n",
       "    .dataframe thead th {\n",
       "        text-align: right;\n",
       "    }\n",
       "</style>\n",
       "<table border=\"1\" class=\"dataframe\">\n",
       "  <thead>\n",
       "    <tr style=\"text-align: right;\">\n",
       "      <th></th>\n",
       "      <th>TransactionID</th>\n",
       "      <th>AccountID</th>\n",
       "      <th>TransactionAmount</th>\n",
       "      <th>TransactionDate</th>\n",
       "      <th>Location</th>\n",
       "      <th>DeviceID</th>\n",
       "      <th>IP Address</th>\n",
       "      <th>MerchantID</th>\n",
       "      <th>Channel</th>\n",
       "      <th>CustomerAge</th>\n",
       "      <th>CustomerOccupation</th>\n",
       "      <th>TransactionDuration</th>\n",
       "      <th>LoginAttempts</th>\n",
       "      <th>AccountBalance</th>\n",
       "      <th>PreviousTransactionDate</th>\n",
       "      <th>TransactionType</th>\n",
       "      <th>Cluster</th>\n",
       "    </tr>\n",
       "  </thead>\n",
       "  <tbody>\n",
       "    <tr>\n",
       "      <th>0</th>\n",
       "      <td>TX000001</td>\n",
       "      <td>AC00128</td>\n",
       "      <td>14.09</td>\n",
       "      <td>2023-04-11 16:29:14</td>\n",
       "      <td>San Diego</td>\n",
       "      <td>D000380</td>\n",
       "      <td>162.198.218.92</td>\n",
       "      <td>M015</td>\n",
       "      <td>ATM</td>\n",
       "      <td>70.0</td>\n",
       "      <td>Doctor</td>\n",
       "      <td>81.0</td>\n",
       "      <td>1.0</td>\n",
       "      <td>5112.21</td>\n",
       "      <td>2024-11-04 08:08:08</td>\n",
       "      <td>Debit</td>\n",
       "      <td>0</td>\n",
       "    </tr>\n",
       "    <tr>\n",
       "      <th>1</th>\n",
       "      <td>TX000002</td>\n",
       "      <td>AC00455</td>\n",
       "      <td>376.24</td>\n",
       "      <td>2023-06-27 16:44:19</td>\n",
       "      <td>Houston</td>\n",
       "      <td>D000051</td>\n",
       "      <td>13.149.61.4</td>\n",
       "      <td>M052</td>\n",
       "      <td>ATM</td>\n",
       "      <td>68.0</td>\n",
       "      <td>Doctor</td>\n",
       "      <td>141.0</td>\n",
       "      <td>1.0</td>\n",
       "      <td>13758.91</td>\n",
       "      <td>2024-11-04 08:09:35</td>\n",
       "      <td>Debit</td>\n",
       "      <td>0</td>\n",
       "    </tr>\n",
       "    <tr>\n",
       "      <th>2</th>\n",
       "      <td>TX000003</td>\n",
       "      <td>AC00019</td>\n",
       "      <td>126.29</td>\n",
       "      <td>2023-07-10 18:16:08</td>\n",
       "      <td>Mesa</td>\n",
       "      <td>D000235</td>\n",
       "      <td>215.97.143.157</td>\n",
       "      <td>M009</td>\n",
       "      <td>Online</td>\n",
       "      <td>19.0</td>\n",
       "      <td>Student</td>\n",
       "      <td>56.0</td>\n",
       "      <td>1.0</td>\n",
       "      <td>1122.35</td>\n",
       "      <td>2024-11-04 08:07:04</td>\n",
       "      <td>Credit</td>\n",
       "      <td>2</td>\n",
       "    </tr>\n",
       "    <tr>\n",
       "      <th>3</th>\n",
       "      <td>TX000004</td>\n",
       "      <td>AC00070</td>\n",
       "      <td>184.50</td>\n",
       "      <td>2023-05-05 16:32:11</td>\n",
       "      <td>Raleigh</td>\n",
       "      <td>D000187</td>\n",
       "      <td>200.13.225.150</td>\n",
       "      <td>M002</td>\n",
       "      <td>Online</td>\n",
       "      <td>26.0</td>\n",
       "      <td>Student</td>\n",
       "      <td>25.0</td>\n",
       "      <td>1.0</td>\n",
       "      <td>8569.06</td>\n",
       "      <td>2024-11-04 08:09:06</td>\n",
       "      <td>Debit</td>\n",
       "      <td>2</td>\n",
       "    </tr>\n",
       "    <tr>\n",
       "      <th>4</th>\n",
       "      <td>TX000005</td>\n",
       "      <td>AC00411</td>\n",
       "      <td>13.45</td>\n",
       "      <td>2023-10-16 17:51:24</td>\n",
       "      <td>Atlanta</td>\n",
       "      <td>D000308</td>\n",
       "      <td>65.164.3.100</td>\n",
       "      <td>M091</td>\n",
       "      <td>Online</td>\n",
       "      <td>26.0</td>\n",
       "      <td>Student</td>\n",
       "      <td>198.0</td>\n",
       "      <td>1.0</td>\n",
       "      <td>7429.40</td>\n",
       "      <td>2024-11-04 08:06:39</td>\n",
       "      <td>Credit</td>\n",
       "      <td>1</td>\n",
       "    </tr>\n",
       "  </tbody>\n",
       "</table>\n",
       "</div>"
      ]
     },
     "execution_count": 246,
     "metadata": {},
     "output_type": "execute_result"
    }
   ],
   "execution_count": 246
  },
  {
   "metadata": {
    "ExecuteTime": {
     "end_time": "2025-03-29T00:57:51.166063Z",
     "start_time": "2025-03-29T00:57:51.139008Z"
    }
   },
   "cell_type": "code",
   "source": [
    "# Memerika informasi dari dataset\n",
    "df_bank_transaction.info()"
   ],
   "outputs": [
    {
     "name": "stdout",
     "output_type": "stream",
     "text": [
      "<class 'pandas.core.frame.DataFrame'>\n",
      "RangeIndex: 2512 entries, 0 to 2511\n",
      "Data columns (total 17 columns):\n",
      " #   Column                   Non-Null Count  Dtype  \n",
      "---  ------                   --------------  -----  \n",
      " 0   TransactionID            2512 non-null   object \n",
      " 1   AccountID                2512 non-null   object \n",
      " 2   TransactionAmount        2512 non-null   float64\n",
      " 3   TransactionDate          2512 non-null   object \n",
      " 4   Location                 2512 non-null   object \n",
      " 5   DeviceID                 2512 non-null   object \n",
      " 6   IP Address               2512 non-null   object \n",
      " 7   MerchantID               2512 non-null   object \n",
      " 8   Channel                  2512 non-null   object \n",
      " 9   CustomerAge              2512 non-null   float64\n",
      " 10  CustomerOccupation       2512 non-null   object \n",
      " 11  TransactionDuration      2512 non-null   float64\n",
      " 12  LoginAttempts            2512 non-null   float64\n",
      " 13  AccountBalance           2512 non-null   float64\n",
      " 14  PreviousTransactionDate  2512 non-null   object \n",
      " 15  TransactionType          2512 non-null   object \n",
      " 16  Cluster                  2512 non-null   int64  \n",
      "dtypes: float64(5), int64(1), object(11)\n",
      "memory usage: 333.8+ KB\n"
     ]
    }
   ],
   "execution_count": 247
  },
  {
   "cell_type": "markdown",
   "source": [
    "# **3. Data Splitting**"
   ],
   "metadata": {
    "id": "KkPem5eWL2UP"
   }
  },
  {
   "cell_type": "markdown",
   "source": [
    "Tahap Data Splitting bertujuan untuk memisahkan dataset menjadi dua bagian: data latih (training set) dan data uji (test set)."
   ],
   "metadata": {
    "id": "YYj1rl_JNI9Y"
   }
  },
  {
   "metadata": {
    "ExecuteTime": {
     "end_time": "2025-03-29T00:57:51.356536Z",
     "start_time": "2025-03-29T00:57:51.326577Z"
    }
   },
   "cell_type": "code",
   "source": [
    "# Membuat instance LabelEncoder\n",
    "label_encoder = LabelEncoder()\n",
    "\n",
    "# List kolom kategorikal yang perlu di-encode\n",
    "categorical_columns = ['Location', 'CustomerOccupation', 'Channel']\n",
    "\n",
    "# Encode kolom kategorikal\n",
    "for column in categorical_columns:\n",
    "    df_bank_transaction[column] = label_encoder.fit_transform(df_bank_transaction[column])\n",
    "\n",
    "# Menampilkan dataframe untuk memastikan encoding diterapkan\n",
    "df_bank_transaction.head()"
   ],
   "outputs": [
    {
     "data": {
      "text/plain": [
       "  TransactionID AccountID  TransactionAmount      TransactionDate  Location  \\\n",
       "0      TX000001   AC00128              14.09  2023-04-11 16:29:14        36   \n",
       "1      TX000002   AC00455             376.24  2023-06-27 16:44:19        15   \n",
       "2      TX000003   AC00019             126.29  2023-07-10 18:16:08        23   \n",
       "3      TX000004   AC00070             184.50  2023-05-05 16:32:11        33   \n",
       "4      TX000005   AC00411              13.45  2023-10-16 17:51:24         1   \n",
       "\n",
       "  DeviceID      IP Address MerchantID  Channel  CustomerAge  \\\n",
       "0  D000380  162.198.218.92       M015        0         70.0   \n",
       "1  D000051     13.149.61.4       M052        0         68.0   \n",
       "2  D000235  215.97.143.157       M009        2         19.0   \n",
       "3  D000187  200.13.225.150       M002        2         26.0   \n",
       "4  D000308    65.164.3.100       M091        2         26.0   \n",
       "\n",
       "   CustomerOccupation  TransactionDuration  LoginAttempts  AccountBalance  \\\n",
       "0                   0                 81.0            1.0         5112.21   \n",
       "1                   0                141.0            1.0        13758.91   \n",
       "2                   3                 56.0            1.0         1122.35   \n",
       "3                   3                 25.0            1.0         8569.06   \n",
       "4                   3                198.0            1.0         7429.40   \n",
       "\n",
       "  PreviousTransactionDate TransactionType  Cluster  \n",
       "0     2024-11-04 08:08:08           Debit        0  \n",
       "1     2024-11-04 08:09:35           Debit        0  \n",
       "2     2024-11-04 08:07:04          Credit        2  \n",
       "3     2024-11-04 08:09:06           Debit        2  \n",
       "4     2024-11-04 08:06:39          Credit        1  "
      ],
      "text/html": [
       "<div>\n",
       "<style scoped>\n",
       "    .dataframe tbody tr th:only-of-type {\n",
       "        vertical-align: middle;\n",
       "    }\n",
       "\n",
       "    .dataframe tbody tr th {\n",
       "        vertical-align: top;\n",
       "    }\n",
       "\n",
       "    .dataframe thead th {\n",
       "        text-align: right;\n",
       "    }\n",
       "</style>\n",
       "<table border=\"1\" class=\"dataframe\">\n",
       "  <thead>\n",
       "    <tr style=\"text-align: right;\">\n",
       "      <th></th>\n",
       "      <th>TransactionID</th>\n",
       "      <th>AccountID</th>\n",
       "      <th>TransactionAmount</th>\n",
       "      <th>TransactionDate</th>\n",
       "      <th>Location</th>\n",
       "      <th>DeviceID</th>\n",
       "      <th>IP Address</th>\n",
       "      <th>MerchantID</th>\n",
       "      <th>Channel</th>\n",
       "      <th>CustomerAge</th>\n",
       "      <th>CustomerOccupation</th>\n",
       "      <th>TransactionDuration</th>\n",
       "      <th>LoginAttempts</th>\n",
       "      <th>AccountBalance</th>\n",
       "      <th>PreviousTransactionDate</th>\n",
       "      <th>TransactionType</th>\n",
       "      <th>Cluster</th>\n",
       "    </tr>\n",
       "  </thead>\n",
       "  <tbody>\n",
       "    <tr>\n",
       "      <th>0</th>\n",
       "      <td>TX000001</td>\n",
       "      <td>AC00128</td>\n",
       "      <td>14.09</td>\n",
       "      <td>2023-04-11 16:29:14</td>\n",
       "      <td>36</td>\n",
       "      <td>D000380</td>\n",
       "      <td>162.198.218.92</td>\n",
       "      <td>M015</td>\n",
       "      <td>0</td>\n",
       "      <td>70.0</td>\n",
       "      <td>0</td>\n",
       "      <td>81.0</td>\n",
       "      <td>1.0</td>\n",
       "      <td>5112.21</td>\n",
       "      <td>2024-11-04 08:08:08</td>\n",
       "      <td>Debit</td>\n",
       "      <td>0</td>\n",
       "    </tr>\n",
       "    <tr>\n",
       "      <th>1</th>\n",
       "      <td>TX000002</td>\n",
       "      <td>AC00455</td>\n",
       "      <td>376.24</td>\n",
       "      <td>2023-06-27 16:44:19</td>\n",
       "      <td>15</td>\n",
       "      <td>D000051</td>\n",
       "      <td>13.149.61.4</td>\n",
       "      <td>M052</td>\n",
       "      <td>0</td>\n",
       "      <td>68.0</td>\n",
       "      <td>0</td>\n",
       "      <td>141.0</td>\n",
       "      <td>1.0</td>\n",
       "      <td>13758.91</td>\n",
       "      <td>2024-11-04 08:09:35</td>\n",
       "      <td>Debit</td>\n",
       "      <td>0</td>\n",
       "    </tr>\n",
       "    <tr>\n",
       "      <th>2</th>\n",
       "      <td>TX000003</td>\n",
       "      <td>AC00019</td>\n",
       "      <td>126.29</td>\n",
       "      <td>2023-07-10 18:16:08</td>\n",
       "      <td>23</td>\n",
       "      <td>D000235</td>\n",
       "      <td>215.97.143.157</td>\n",
       "      <td>M009</td>\n",
       "      <td>2</td>\n",
       "      <td>19.0</td>\n",
       "      <td>3</td>\n",
       "      <td>56.0</td>\n",
       "      <td>1.0</td>\n",
       "      <td>1122.35</td>\n",
       "      <td>2024-11-04 08:07:04</td>\n",
       "      <td>Credit</td>\n",
       "      <td>2</td>\n",
       "    </tr>\n",
       "    <tr>\n",
       "      <th>3</th>\n",
       "      <td>TX000004</td>\n",
       "      <td>AC00070</td>\n",
       "      <td>184.50</td>\n",
       "      <td>2023-05-05 16:32:11</td>\n",
       "      <td>33</td>\n",
       "      <td>D000187</td>\n",
       "      <td>200.13.225.150</td>\n",
       "      <td>M002</td>\n",
       "      <td>2</td>\n",
       "      <td>26.0</td>\n",
       "      <td>3</td>\n",
       "      <td>25.0</td>\n",
       "      <td>1.0</td>\n",
       "      <td>8569.06</td>\n",
       "      <td>2024-11-04 08:09:06</td>\n",
       "      <td>Debit</td>\n",
       "      <td>2</td>\n",
       "    </tr>\n",
       "    <tr>\n",
       "      <th>4</th>\n",
       "      <td>TX000005</td>\n",
       "      <td>AC00411</td>\n",
       "      <td>13.45</td>\n",
       "      <td>2023-10-16 17:51:24</td>\n",
       "      <td>1</td>\n",
       "      <td>D000308</td>\n",
       "      <td>65.164.3.100</td>\n",
       "      <td>M091</td>\n",
       "      <td>2</td>\n",
       "      <td>26.0</td>\n",
       "      <td>3</td>\n",
       "      <td>198.0</td>\n",
       "      <td>1.0</td>\n",
       "      <td>7429.40</td>\n",
       "      <td>2024-11-04 08:06:39</td>\n",
       "      <td>Credit</td>\n",
       "      <td>1</td>\n",
       "    </tr>\n",
       "  </tbody>\n",
       "</table>\n",
       "</div>"
      ]
     },
     "execution_count": 248,
     "metadata": {},
     "output_type": "execute_result"
    }
   ],
   "execution_count": 248
  },
  {
   "metadata": {
    "ExecuteTime": {
     "end_time": "2025-03-29T00:57:51.442648Z",
     "start_time": "2025-03-29T00:57:51.407785Z"
    }
   },
   "cell_type": "code",
   "source": [
    "# Melakukan one-hot-encoding pada kolom TransactionType\n",
    "df_bank_transaction_encoding = pd.get_dummies(df_bank_transaction, columns=['TransactionType'])\n",
    "\n",
    "# Menampilkan dataframe untuk memastikan encoding diterapkan\n",
    "df_bank_transaction_encoding.head()"
   ],
   "outputs": [
    {
     "data": {
      "text/plain": [
       "  TransactionID AccountID  TransactionAmount      TransactionDate  Location  \\\n",
       "0      TX000001   AC00128              14.09  2023-04-11 16:29:14        36   \n",
       "1      TX000002   AC00455             376.24  2023-06-27 16:44:19        15   \n",
       "2      TX000003   AC00019             126.29  2023-07-10 18:16:08        23   \n",
       "3      TX000004   AC00070             184.50  2023-05-05 16:32:11        33   \n",
       "4      TX000005   AC00411              13.45  2023-10-16 17:51:24         1   \n",
       "\n",
       "  DeviceID      IP Address MerchantID  Channel  CustomerAge  \\\n",
       "0  D000380  162.198.218.92       M015        0         70.0   \n",
       "1  D000051     13.149.61.4       M052        0         68.0   \n",
       "2  D000235  215.97.143.157       M009        2         19.0   \n",
       "3  D000187  200.13.225.150       M002        2         26.0   \n",
       "4  D000308    65.164.3.100       M091        2         26.0   \n",
       "\n",
       "   CustomerOccupation  TransactionDuration  LoginAttempts  AccountBalance  \\\n",
       "0                   0                 81.0            1.0         5112.21   \n",
       "1                   0                141.0            1.0        13758.91   \n",
       "2                   3                 56.0            1.0         1122.35   \n",
       "3                   3                 25.0            1.0         8569.06   \n",
       "4                   3                198.0            1.0         7429.40   \n",
       "\n",
       "  PreviousTransactionDate  Cluster  TransactionType_Credit  \\\n",
       "0     2024-11-04 08:08:08        0                   False   \n",
       "1     2024-11-04 08:09:35        0                   False   \n",
       "2     2024-11-04 08:07:04        2                    True   \n",
       "3     2024-11-04 08:09:06        2                   False   \n",
       "4     2024-11-04 08:06:39        1                    True   \n",
       "\n",
       "   TransactionType_Debit  \n",
       "0                   True  \n",
       "1                   True  \n",
       "2                  False  \n",
       "3                   True  \n",
       "4                  False  "
      ],
      "text/html": [
       "<div>\n",
       "<style scoped>\n",
       "    .dataframe tbody tr th:only-of-type {\n",
       "        vertical-align: middle;\n",
       "    }\n",
       "\n",
       "    .dataframe tbody tr th {\n",
       "        vertical-align: top;\n",
       "    }\n",
       "\n",
       "    .dataframe thead th {\n",
       "        text-align: right;\n",
       "    }\n",
       "</style>\n",
       "<table border=\"1\" class=\"dataframe\">\n",
       "  <thead>\n",
       "    <tr style=\"text-align: right;\">\n",
       "      <th></th>\n",
       "      <th>TransactionID</th>\n",
       "      <th>AccountID</th>\n",
       "      <th>TransactionAmount</th>\n",
       "      <th>TransactionDate</th>\n",
       "      <th>Location</th>\n",
       "      <th>DeviceID</th>\n",
       "      <th>IP Address</th>\n",
       "      <th>MerchantID</th>\n",
       "      <th>Channel</th>\n",
       "      <th>CustomerAge</th>\n",
       "      <th>CustomerOccupation</th>\n",
       "      <th>TransactionDuration</th>\n",
       "      <th>LoginAttempts</th>\n",
       "      <th>AccountBalance</th>\n",
       "      <th>PreviousTransactionDate</th>\n",
       "      <th>Cluster</th>\n",
       "      <th>TransactionType_Credit</th>\n",
       "      <th>TransactionType_Debit</th>\n",
       "    </tr>\n",
       "  </thead>\n",
       "  <tbody>\n",
       "    <tr>\n",
       "      <th>0</th>\n",
       "      <td>TX000001</td>\n",
       "      <td>AC00128</td>\n",
       "      <td>14.09</td>\n",
       "      <td>2023-04-11 16:29:14</td>\n",
       "      <td>36</td>\n",
       "      <td>D000380</td>\n",
       "      <td>162.198.218.92</td>\n",
       "      <td>M015</td>\n",
       "      <td>0</td>\n",
       "      <td>70.0</td>\n",
       "      <td>0</td>\n",
       "      <td>81.0</td>\n",
       "      <td>1.0</td>\n",
       "      <td>5112.21</td>\n",
       "      <td>2024-11-04 08:08:08</td>\n",
       "      <td>0</td>\n",
       "      <td>False</td>\n",
       "      <td>True</td>\n",
       "    </tr>\n",
       "    <tr>\n",
       "      <th>1</th>\n",
       "      <td>TX000002</td>\n",
       "      <td>AC00455</td>\n",
       "      <td>376.24</td>\n",
       "      <td>2023-06-27 16:44:19</td>\n",
       "      <td>15</td>\n",
       "      <td>D000051</td>\n",
       "      <td>13.149.61.4</td>\n",
       "      <td>M052</td>\n",
       "      <td>0</td>\n",
       "      <td>68.0</td>\n",
       "      <td>0</td>\n",
       "      <td>141.0</td>\n",
       "      <td>1.0</td>\n",
       "      <td>13758.91</td>\n",
       "      <td>2024-11-04 08:09:35</td>\n",
       "      <td>0</td>\n",
       "      <td>False</td>\n",
       "      <td>True</td>\n",
       "    </tr>\n",
       "    <tr>\n",
       "      <th>2</th>\n",
       "      <td>TX000003</td>\n",
       "      <td>AC00019</td>\n",
       "      <td>126.29</td>\n",
       "      <td>2023-07-10 18:16:08</td>\n",
       "      <td>23</td>\n",
       "      <td>D000235</td>\n",
       "      <td>215.97.143.157</td>\n",
       "      <td>M009</td>\n",
       "      <td>2</td>\n",
       "      <td>19.0</td>\n",
       "      <td>3</td>\n",
       "      <td>56.0</td>\n",
       "      <td>1.0</td>\n",
       "      <td>1122.35</td>\n",
       "      <td>2024-11-04 08:07:04</td>\n",
       "      <td>2</td>\n",
       "      <td>True</td>\n",
       "      <td>False</td>\n",
       "    </tr>\n",
       "    <tr>\n",
       "      <th>3</th>\n",
       "      <td>TX000004</td>\n",
       "      <td>AC00070</td>\n",
       "      <td>184.50</td>\n",
       "      <td>2023-05-05 16:32:11</td>\n",
       "      <td>33</td>\n",
       "      <td>D000187</td>\n",
       "      <td>200.13.225.150</td>\n",
       "      <td>M002</td>\n",
       "      <td>2</td>\n",
       "      <td>26.0</td>\n",
       "      <td>3</td>\n",
       "      <td>25.0</td>\n",
       "      <td>1.0</td>\n",
       "      <td>8569.06</td>\n",
       "      <td>2024-11-04 08:09:06</td>\n",
       "      <td>2</td>\n",
       "      <td>False</td>\n",
       "      <td>True</td>\n",
       "    </tr>\n",
       "    <tr>\n",
       "      <th>4</th>\n",
       "      <td>TX000005</td>\n",
       "      <td>AC00411</td>\n",
       "      <td>13.45</td>\n",
       "      <td>2023-10-16 17:51:24</td>\n",
       "      <td>1</td>\n",
       "      <td>D000308</td>\n",
       "      <td>65.164.3.100</td>\n",
       "      <td>M091</td>\n",
       "      <td>2</td>\n",
       "      <td>26.0</td>\n",
       "      <td>3</td>\n",
       "      <td>198.0</td>\n",
       "      <td>1.0</td>\n",
       "      <td>7429.40</td>\n",
       "      <td>2024-11-04 08:06:39</td>\n",
       "      <td>1</td>\n",
       "      <td>True</td>\n",
       "      <td>False</td>\n",
       "    </tr>\n",
       "  </tbody>\n",
       "</table>\n",
       "</div>"
      ]
     },
     "execution_count": 249,
     "metadata": {},
     "output_type": "execute_result"
    }
   ],
   "execution_count": 249
  },
  {
   "metadata": {
    "id": "OubAW-7ONKVj",
    "ExecuteTime": {
     "end_time": "2025-03-29T00:57:51.592393Z",
     "start_time": "2025-03-29T00:57:51.559249Z"
    }
   },
   "cell_type": "code",
   "source": [
    "# Membuat instance MinMaxScaller\n",
    "scaler = MinMaxScaler()\n",
    "\n",
    "# Normalisasi semua kolom numerik\n",
    "numeric_columns = df_bank_transaction_encoding.drop(columns=['Cluster']).select_dtypes(\n",
    "    include=['int64', 'float64']).columns\n",
    "df_bank_transaction_encoding[numeric_columns] = scaler.fit_transform(df_bank_transaction_encoding[numeric_columns])\n",
    "\n",
    "# Menampilkan dataframe untuk memastikan normalisasi diterapkan\n",
    "df_bank_transaction_encoding.head()"
   ],
   "outputs": [
    {
     "data": {
      "text/plain": [
       "  TransactionID AccountID  TransactionAmount      TransactionDate  Location  \\\n",
       "0      TX000001   AC00128           0.007207  2023-04-11 16:29:14  0.857143   \n",
       "1      TX000002   AC00455           0.195940  2023-06-27 16:44:19  0.357143   \n",
       "2      TX000003   AC00019           0.065680  2023-07-10 18:16:08  0.547619   \n",
       "3      TX000004   AC00070           0.096016  2023-05-05 16:32:11  0.785714   \n",
       "4      TX000005   AC00411           0.006874  2023-10-16 17:51:24  0.023810   \n",
       "\n",
       "  DeviceID      IP Address MerchantID  Channel  CustomerAge  \\\n",
       "0  D000380  162.198.218.92       M015      0.0     0.838710   \n",
       "1  D000051     13.149.61.4       M052      0.0     0.806452   \n",
       "2  D000235  215.97.143.157       M009      1.0     0.016129   \n",
       "3  D000187  200.13.225.150       M002      1.0     0.129032   \n",
       "4  D000308    65.164.3.100       M091      1.0     0.129032   \n",
       "\n",
       "   CustomerOccupation  TransactionDuration  LoginAttempts  AccountBalance  \\\n",
       "0                 0.0             0.244828            0.0        0.336832   \n",
       "1                 0.0             0.451724            0.0        0.918055   \n",
       "2                 1.0             0.158621            0.0        0.068637   \n",
       "3                 1.0             0.051724            0.0        0.569198   \n",
       "4                 1.0             0.648276            0.0        0.492591   \n",
       "\n",
       "  PreviousTransactionDate  Cluster  TransactionType_Credit  \\\n",
       "0     2024-11-04 08:08:08        0                   False   \n",
       "1     2024-11-04 08:09:35        0                   False   \n",
       "2     2024-11-04 08:07:04        2                    True   \n",
       "3     2024-11-04 08:09:06        2                   False   \n",
       "4     2024-11-04 08:06:39        1                    True   \n",
       "\n",
       "   TransactionType_Debit  \n",
       "0                   True  \n",
       "1                   True  \n",
       "2                  False  \n",
       "3                   True  \n",
       "4                  False  "
      ],
      "text/html": [
       "<div>\n",
       "<style scoped>\n",
       "    .dataframe tbody tr th:only-of-type {\n",
       "        vertical-align: middle;\n",
       "    }\n",
       "\n",
       "    .dataframe tbody tr th {\n",
       "        vertical-align: top;\n",
       "    }\n",
       "\n",
       "    .dataframe thead th {\n",
       "        text-align: right;\n",
       "    }\n",
       "</style>\n",
       "<table border=\"1\" class=\"dataframe\">\n",
       "  <thead>\n",
       "    <tr style=\"text-align: right;\">\n",
       "      <th></th>\n",
       "      <th>TransactionID</th>\n",
       "      <th>AccountID</th>\n",
       "      <th>TransactionAmount</th>\n",
       "      <th>TransactionDate</th>\n",
       "      <th>Location</th>\n",
       "      <th>DeviceID</th>\n",
       "      <th>IP Address</th>\n",
       "      <th>MerchantID</th>\n",
       "      <th>Channel</th>\n",
       "      <th>CustomerAge</th>\n",
       "      <th>CustomerOccupation</th>\n",
       "      <th>TransactionDuration</th>\n",
       "      <th>LoginAttempts</th>\n",
       "      <th>AccountBalance</th>\n",
       "      <th>PreviousTransactionDate</th>\n",
       "      <th>Cluster</th>\n",
       "      <th>TransactionType_Credit</th>\n",
       "      <th>TransactionType_Debit</th>\n",
       "    </tr>\n",
       "  </thead>\n",
       "  <tbody>\n",
       "    <tr>\n",
       "      <th>0</th>\n",
       "      <td>TX000001</td>\n",
       "      <td>AC00128</td>\n",
       "      <td>0.007207</td>\n",
       "      <td>2023-04-11 16:29:14</td>\n",
       "      <td>0.857143</td>\n",
       "      <td>D000380</td>\n",
       "      <td>162.198.218.92</td>\n",
       "      <td>M015</td>\n",
       "      <td>0.0</td>\n",
       "      <td>0.838710</td>\n",
       "      <td>0.0</td>\n",
       "      <td>0.244828</td>\n",
       "      <td>0.0</td>\n",
       "      <td>0.336832</td>\n",
       "      <td>2024-11-04 08:08:08</td>\n",
       "      <td>0</td>\n",
       "      <td>False</td>\n",
       "      <td>True</td>\n",
       "    </tr>\n",
       "    <tr>\n",
       "      <th>1</th>\n",
       "      <td>TX000002</td>\n",
       "      <td>AC00455</td>\n",
       "      <td>0.195940</td>\n",
       "      <td>2023-06-27 16:44:19</td>\n",
       "      <td>0.357143</td>\n",
       "      <td>D000051</td>\n",
       "      <td>13.149.61.4</td>\n",
       "      <td>M052</td>\n",
       "      <td>0.0</td>\n",
       "      <td>0.806452</td>\n",
       "      <td>0.0</td>\n",
       "      <td>0.451724</td>\n",
       "      <td>0.0</td>\n",
       "      <td>0.918055</td>\n",
       "      <td>2024-11-04 08:09:35</td>\n",
       "      <td>0</td>\n",
       "      <td>False</td>\n",
       "      <td>True</td>\n",
       "    </tr>\n",
       "    <tr>\n",
       "      <th>2</th>\n",
       "      <td>TX000003</td>\n",
       "      <td>AC00019</td>\n",
       "      <td>0.065680</td>\n",
       "      <td>2023-07-10 18:16:08</td>\n",
       "      <td>0.547619</td>\n",
       "      <td>D000235</td>\n",
       "      <td>215.97.143.157</td>\n",
       "      <td>M009</td>\n",
       "      <td>1.0</td>\n",
       "      <td>0.016129</td>\n",
       "      <td>1.0</td>\n",
       "      <td>0.158621</td>\n",
       "      <td>0.0</td>\n",
       "      <td>0.068637</td>\n",
       "      <td>2024-11-04 08:07:04</td>\n",
       "      <td>2</td>\n",
       "      <td>True</td>\n",
       "      <td>False</td>\n",
       "    </tr>\n",
       "    <tr>\n",
       "      <th>3</th>\n",
       "      <td>TX000004</td>\n",
       "      <td>AC00070</td>\n",
       "      <td>0.096016</td>\n",
       "      <td>2023-05-05 16:32:11</td>\n",
       "      <td>0.785714</td>\n",
       "      <td>D000187</td>\n",
       "      <td>200.13.225.150</td>\n",
       "      <td>M002</td>\n",
       "      <td>1.0</td>\n",
       "      <td>0.129032</td>\n",
       "      <td>1.0</td>\n",
       "      <td>0.051724</td>\n",
       "      <td>0.0</td>\n",
       "      <td>0.569198</td>\n",
       "      <td>2024-11-04 08:09:06</td>\n",
       "      <td>2</td>\n",
       "      <td>False</td>\n",
       "      <td>True</td>\n",
       "    </tr>\n",
       "    <tr>\n",
       "      <th>4</th>\n",
       "      <td>TX000005</td>\n",
       "      <td>AC00411</td>\n",
       "      <td>0.006874</td>\n",
       "      <td>2023-10-16 17:51:24</td>\n",
       "      <td>0.023810</td>\n",
       "      <td>D000308</td>\n",
       "      <td>65.164.3.100</td>\n",
       "      <td>M091</td>\n",
       "      <td>1.0</td>\n",
       "      <td>0.129032</td>\n",
       "      <td>1.0</td>\n",
       "      <td>0.648276</td>\n",
       "      <td>0.0</td>\n",
       "      <td>0.492591</td>\n",
       "      <td>2024-11-04 08:06:39</td>\n",
       "      <td>1</td>\n",
       "      <td>True</td>\n",
       "      <td>False</td>\n",
       "    </tr>\n",
       "  </tbody>\n",
       "</table>\n",
       "</div>"
      ]
     },
     "execution_count": 250,
     "metadata": {},
     "output_type": "execute_result"
    }
   ],
   "execution_count": 250
  },
  {
   "metadata": {
    "ExecuteTime": {
     "end_time": "2025-03-29T00:57:51.755851Z",
     "start_time": "2025-03-29T00:57:51.734864Z"
    }
   },
   "cell_type": "code",
   "source": [
    "# Melakukan drop pada kolom-kolom tertentu\n",
    "df_bank_transaction_drop = df_bank_transaction_encoding.drop(\n",
    "    columns=['TransactionID', 'AccountID', 'DeviceID', 'MerchantID', 'IP Address', 'TransactionDate',\n",
    "             'PreviousTransactionDate'])\n",
    "\n",
    "# Menampilkan dataframe setelah melakukan dropping\n",
    "df_bank_transaction_drop.head()"
   ],
   "outputs": [
    {
     "data": {
      "text/plain": [
       "   TransactionAmount  Location  Channel  CustomerAge  CustomerOccupation  \\\n",
       "0           0.007207  0.857143      0.0     0.838710                 0.0   \n",
       "1           0.195940  0.357143      0.0     0.806452                 0.0   \n",
       "2           0.065680  0.547619      1.0     0.016129                 1.0   \n",
       "3           0.096016  0.785714      1.0     0.129032                 1.0   \n",
       "4           0.006874  0.023810      1.0     0.129032                 1.0   \n",
       "\n",
       "   TransactionDuration  LoginAttempts  AccountBalance  Cluster  \\\n",
       "0             0.244828            0.0        0.336832        0   \n",
       "1             0.451724            0.0        0.918055        0   \n",
       "2             0.158621            0.0        0.068637        2   \n",
       "3             0.051724            0.0        0.569198        2   \n",
       "4             0.648276            0.0        0.492591        1   \n",
       "\n",
       "   TransactionType_Credit  TransactionType_Debit  \n",
       "0                   False                   True  \n",
       "1                   False                   True  \n",
       "2                    True                  False  \n",
       "3                   False                   True  \n",
       "4                    True                  False  "
      ],
      "text/html": [
       "<div>\n",
       "<style scoped>\n",
       "    .dataframe tbody tr th:only-of-type {\n",
       "        vertical-align: middle;\n",
       "    }\n",
       "\n",
       "    .dataframe tbody tr th {\n",
       "        vertical-align: top;\n",
       "    }\n",
       "\n",
       "    .dataframe thead th {\n",
       "        text-align: right;\n",
       "    }\n",
       "</style>\n",
       "<table border=\"1\" class=\"dataframe\">\n",
       "  <thead>\n",
       "    <tr style=\"text-align: right;\">\n",
       "      <th></th>\n",
       "      <th>TransactionAmount</th>\n",
       "      <th>Location</th>\n",
       "      <th>Channel</th>\n",
       "      <th>CustomerAge</th>\n",
       "      <th>CustomerOccupation</th>\n",
       "      <th>TransactionDuration</th>\n",
       "      <th>LoginAttempts</th>\n",
       "      <th>AccountBalance</th>\n",
       "      <th>Cluster</th>\n",
       "      <th>TransactionType_Credit</th>\n",
       "      <th>TransactionType_Debit</th>\n",
       "    </tr>\n",
       "  </thead>\n",
       "  <tbody>\n",
       "    <tr>\n",
       "      <th>0</th>\n",
       "      <td>0.007207</td>\n",
       "      <td>0.857143</td>\n",
       "      <td>0.0</td>\n",
       "      <td>0.838710</td>\n",
       "      <td>0.0</td>\n",
       "      <td>0.244828</td>\n",
       "      <td>0.0</td>\n",
       "      <td>0.336832</td>\n",
       "      <td>0</td>\n",
       "      <td>False</td>\n",
       "      <td>True</td>\n",
       "    </tr>\n",
       "    <tr>\n",
       "      <th>1</th>\n",
       "      <td>0.195940</td>\n",
       "      <td>0.357143</td>\n",
       "      <td>0.0</td>\n",
       "      <td>0.806452</td>\n",
       "      <td>0.0</td>\n",
       "      <td>0.451724</td>\n",
       "      <td>0.0</td>\n",
       "      <td>0.918055</td>\n",
       "      <td>0</td>\n",
       "      <td>False</td>\n",
       "      <td>True</td>\n",
       "    </tr>\n",
       "    <tr>\n",
       "      <th>2</th>\n",
       "      <td>0.065680</td>\n",
       "      <td>0.547619</td>\n",
       "      <td>1.0</td>\n",
       "      <td>0.016129</td>\n",
       "      <td>1.0</td>\n",
       "      <td>0.158621</td>\n",
       "      <td>0.0</td>\n",
       "      <td>0.068637</td>\n",
       "      <td>2</td>\n",
       "      <td>True</td>\n",
       "      <td>False</td>\n",
       "    </tr>\n",
       "    <tr>\n",
       "      <th>3</th>\n",
       "      <td>0.096016</td>\n",
       "      <td>0.785714</td>\n",
       "      <td>1.0</td>\n",
       "      <td>0.129032</td>\n",
       "      <td>1.0</td>\n",
       "      <td>0.051724</td>\n",
       "      <td>0.0</td>\n",
       "      <td>0.569198</td>\n",
       "      <td>2</td>\n",
       "      <td>False</td>\n",
       "      <td>True</td>\n",
       "    </tr>\n",
       "    <tr>\n",
       "      <th>4</th>\n",
       "      <td>0.006874</td>\n",
       "      <td>0.023810</td>\n",
       "      <td>1.0</td>\n",
       "      <td>0.129032</td>\n",
       "      <td>1.0</td>\n",
       "      <td>0.648276</td>\n",
       "      <td>0.0</td>\n",
       "      <td>0.492591</td>\n",
       "      <td>1</td>\n",
       "      <td>True</td>\n",
       "      <td>False</td>\n",
       "    </tr>\n",
       "  </tbody>\n",
       "</table>\n",
       "</div>"
      ]
     },
     "execution_count": 251,
     "metadata": {},
     "output_type": "execute_result"
    }
   ],
   "execution_count": 251
  },
  {
   "metadata": {
    "ExecuteTime": {
     "end_time": "2025-03-29T00:57:51.937818Z",
     "start_time": "2025-03-29T00:57:51.925568Z"
    }
   },
   "cell_type": "code",
   "source": [
    "# Memisahkan fitur (X) dan target (Y)\n",
    "X = df_bank_transaction_drop.drop(columns=['Cluster'])\n",
    "y = df_bank_transaction_drop['Cluster']\n",
    "\n",
    "# Split data menjadi set pelatihan dan set uji\n",
    "X_train, X_test, y_train, y_test = train_test_split(X, y, test_size=0.2, random_state=42)\n",
    "\n",
    "# Menampilkan bentuk set peltihan dan set uji untuk memastikan split\n",
    "print(f\"Training set shape: X_train={X_train.shape}, y_train={y_train.shape}\")\n",
    "print(f\"Test set shape: X_test={X_test.shape}, y_test={y_test.shape}\")"
   ],
   "outputs": [
    {
     "name": "stdout",
     "output_type": "stream",
     "text": [
      "Training set shape: X_train=(2009, 10), y_train=(2009,)\n",
      "Test set shape: X_test=(503, 10), y_test=(503,)\n"
     ]
    }
   ],
   "execution_count": 252
  },
  {
   "cell_type": "markdown",
   "source": [
    "# **4. Membangun Model Klasifikasi**\n"
   ],
   "metadata": {
    "id": "IVPbB03CMhTT"
   }
  },
  {
   "cell_type": "markdown",
   "source": [
    "## **a. Membangun Model Klasifikasi**"
   ],
   "metadata": {
    "id": "Ned1pL9zMmBK"
   }
  },
  {
   "cell_type": "markdown",
   "source": [
    "Setelah memilih algoritma klasifikasi yang sesuai, langkah selanjutnya adalah melatih model menggunakan data latih.\n",
    "\n",
    "Berikut adalah rekomendasi tahapannya.\n",
    "1. Pilih algoritma klasifikasi yang sesuai, seperti Logistic Regression, Decision Tree, Random Forest, atau K-Nearest Neighbors (KNN).\n",
    "2. Latih model menggunakan data latih."
   ],
   "metadata": {
    "id": "WAWzPOE4Nkti"
   }
  },
  {
   "cell_type": "code",
   "source": [
    "# Pelatihan Model\n",
    "# Mendefinisikan setiap klasifikasi secara terpisah\n",
    "knn = KNeighborsClassifier().fit(X_train, y_train)\n",
    "dt = DecisionTreeClassifier().fit(X_train, y_train)\n",
    "\n",
    "print(\"Training model selesai\")"
   ],
   "metadata": {
    "id": "4JYxBe87NLDk",
    "ExecuteTime": {
     "end_time": "2025-03-29T00:57:52.098663Z",
     "start_time": "2025-03-29T00:57:52.076613Z"
    }
   },
   "outputs": [
    {
     "name": "stdout",
     "output_type": "stream",
     "text": [
      "Training model selesai\n"
     ]
    }
   ],
   "execution_count": 253
  },
  {
   "cell_type": "markdown",
   "source": [
    "Tulis narasi atau penjelasan algoritma yang Anda gunakan."
   ],
   "metadata": {
    "id": "seYoHNY3XU1y"
   }
  },
  {
   "cell_type": "markdown",
   "source": [
    "## **b. Evaluasi Model Klasifikasi**"
   ],
   "metadata": {
    "id": "ergzChZFEL-O"
   }
  },
  {
   "cell_type": "markdown",
   "source": [
    "Berikut adalah **rekomendasi** tahapannya.\n",
    "1. Lakukan prediksi menggunakan data uji.\n",
    "2. Hitung metrik evaluasi seperti Accuracy dan F1-Score (Opsional: Precision dan Recall).\n",
    "3. Buat confusion matrix untuk melihat detail prediksi benar dan salah."
   ],
   "metadata": {
    "id": "zOm68u-7NpLT"
   }
  },
  {
   "cell_type": "code",
   "source": [
    "# Fungsi untuk mengevaluasi dan mengembalikan hasil sebagai kamus\n",
    "def evaluate_model(model, X_test, y_test):\n",
    "    y_pred = model.predict(X_test)\n",
    "    cm = confusion_matrix(y_test, y_pred)\n",
    "\n",
    "    evaluate_results = {\n",
    "        'Confusion Matrix': cm,\n",
    "        'Accuracy': accuracy_score(y_test, y_pred),\n",
    "        'Precision': precision_score(y_test, y_pred, average='weighted'),\n",
    "        'Recall': recall_score(y_test, y_pred, average='weighted'),\n",
    "        'F1-Score': f1_score(y_test, y_pred, average='weighted')\n",
    "    }\n",
    "\n",
    "    return evaluate_results\n",
    "\n",
    "# Mengevaluasi setiap model dan mengumpulkan hasilnya\n",
    "results = {\n",
    "    'K-Nearest Neighbors (KNN)': evaluate_model(knn, X_test, y_test),\n",
    "    'Decision Tree': evaluate_model(dt, X_test, y_test)\n",
    "}\n",
    "\n",
    "# Memuat dataframe untuk meringkas hasil\n",
    "summary_df = pd.DataFrame(columns=['Model', 'Accuracy', 'Precision', 'Recall', 'F1-Score'])\n",
    "\n",
    "# Mengisi dataframe dengan hasil\n",
    "rows = []\n",
    "for model_name, metrics in results.items():\n",
    "    rows.append({\n",
    "        'Model': model_name,\n",
    "        'Accuracy': metrics['Accuracy'],\n",
    "        'Precision': metrics['Precision'],\n",
    "        'Recall': metrics['Recall'],\n",
    "        'F1-Score': metrics['F1-Score']\n",
    "    })\n",
    "\n",
    "# Mengkonversi daftar kamus menjadi dataframe\n",
    "summary_df = pd.DataFrame(rows)\n",
    "\n",
    "# Menampilkan dataframe\n",
    "print(summary_df)"
   ],
   "metadata": {
    "id": "tMq4QAssNLip",
    "ExecuteTime": {
     "end_time": "2025-03-29T00:58:00.335736Z",
     "start_time": "2025-03-29T00:58:00.277564Z"
    }
   },
   "outputs": [
    {
     "name": "stdout",
     "output_type": "stream",
     "text": [
      "                       Model  Accuracy  Precision    Recall  F1-Score\n",
      "0  K-Nearest Neighbors (KNN)  0.878728   0.882359  0.878728  0.879505\n",
      "1              Decision Tree  0.926441   0.927039  0.926441  0.926695\n"
     ]
    }
   ],
   "execution_count": 259
  },
  {
   "cell_type": "markdown",
   "source": [
    "Tulis hasil evaluasi algoritma yang digunakan, jika Anda menggunakan 2 algoritma, maka bandingkan hasilnya."
   ],
   "metadata": {
    "id": "H4_9OwrsXZlz"
   }
  },
  {
   "metadata": {},
   "cell_type": "markdown",
   "source": [
    "**Hasil Confusion Matrix Algoritnma KNN**\n",
    "Model K-Nearest Neighbors (KNN) menunjukan hasil evaluasi sebagai berikut. Matrix Confusion menjelaskan bahwa model berhasil mengidentifikasi"
   ]
  },
  {
   "metadata": {
    "ExecuteTime": {
     "end_time": "2025-03-29T00:58:02.139621Z",
     "start_time": "2025-03-29T00:58:01.932924Z"
    }
   },
   "cell_type": "code",
   "source": [
    "# Hasil Confussion Matrix Algoritma KNN\n",
    "def plot_confusion_matrix(cm):\n",
    "    plt.figure(figsize=(6, 5))\n",
    "    sns.heatmap(cm, annot=True, fmt=\"d\", cmap=\"Blues\")\n",
    "    plt.xlabel(\"Predicted\")\n",
    "    plt.ylabel(\"Actual\")\n",
    "    plt.title(\"Confusion Matrix\")\n",
    "    plt.show()\n",
    "\n",
    "plot_confusion_matrix(results[\"K-Nearest Neighbors (KNN)\"][\"Confusion Matrix\"])"
   ],
   "outputs": [
    {
     "data": {
      "text/plain": [
       "<Figure size 600x500 with 2 Axes>"
      ],
      "image/png": "[encoded data removed]"
     },
     "metadata": {},
     "output_type": "display_data"
    }
   ],
   "execution_count": 260
  },
  {
   "metadata": {
    "ExecuteTime": {
     "end_time": "2025-03-29T00:58:04.883792Z",
     "start_time": "2025-03-29T00:58:04.730648Z"
    }
   },
   "cell_type": "code",
   "source": [
    "# Hasil Confussion Matrix Algoritma Decision Tree\n",
    "plot_confusion_matrix(results[\"Decision Tree\"][\"Confusion Matrix\"])"
   ],
   "outputs": [
    {
     "data": {
      "text/plain": [
       "<Figure size 600x500 with 2 Axes>"
      ],
      "image/png": "[encoded data removed]"
     },
     "metadata": {},
     "output_type": "display_data"
    }
   ],
   "execution_count": 261
  },
  {
   "cell_type": "markdown",
   "source": [
    "## **c. Tuning Model Klasifikasi (Optional)**"
   ],
   "metadata": {
    "id": "ph9yIYDXEPuB"
   }
  },
  {
   "cell_type": "markdown",
   "source": [
    "Gunakan GridSearchCV, RandomizedSearchCV, atau metode lainnya untuk mencari kombinasi hyperparameter terbaik"
   ],
   "metadata": {
    "id": "-Bikx3LINv5e"
   }
  },
  {
   "cell_type": "code",
   "source": [
    "#Type your code here"
   ],
   "metadata": {
    "id": "winbFzb8NL95",
    "ExecuteTime": {
     "end_time": "2025-03-29T00:57:52.706748Z",
     "start_time": "2025-03-29T00:57:52.702937Z"
    }
   },
   "outputs": [],
   "execution_count": 257
  },
  {
   "cell_type": "markdown",
   "source": [
    "## **d. Evaluasi Model Klasifikasi setelah Tuning (Optional)**"
   ],
   "metadata": {
    "id": "hE7pqlEPEYzI"
   }
  },
  {
   "cell_type": "markdown",
   "source": [
    "Berikut adalah rekomendasi tahapannya.\n",
    "1. Gunakan model dengan hyperparameter terbaik.\n",
    "2. Hitung ulang metrik evaluasi untuk melihat apakah ada peningkatan performa."
   ],
   "metadata": {
    "id": "feaPESoeN0zz"
   }
  },
  {
   "cell_type": "code",
   "source": [
    "#Type your code here"
   ],
   "metadata": {
    "id": "HTXZRvEeNMb1",
    "ExecuteTime": {
     "end_time": "2025-03-29T00:57:52.756507Z",
     "start_time": "2025-03-29T00:57:52.751396Z"
    }
   },
   "outputs": [],
   "execution_count": 258
  },
  {
   "cell_type": "markdown",
   "source": [
    "## **e. Analisis Hasil Evaluasi Model Klasifikasi**"
   ],
   "metadata": {
    "id": "ZRsOdm4uEgAW"
   }
  },
  {
   "cell_type": "markdown",
   "source": [
    "Berikut adalah **rekomendasi** tahapannya.\n",
    "1. Bandingkan hasil evaluasi sebelum dan setelah tuning (jika dilakukan).\n",
    "2. Identifikasi kelemahan model, seperti:\n",
    "  - Precision atau Recall rendah untuk kelas tertentu.\n",
    "  - Apakah model mengalami overfitting atau underfitting?\n",
    "3. Berikan rekomendasi tindakan lanjutan, seperti mengumpulkan data tambahan atau mencoba algoritma lain jika hasil belum memuaskan."
   ],
   "metadata": {
    "id": "Hm3BhSi6N4_l"
   }
  }
 ]
}
